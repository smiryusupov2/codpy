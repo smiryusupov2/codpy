{
  "cells": [
    {
      "cell_type": "markdown",
      "metadata": {},
      "source": [
        "\n# Kernel Overloading Example\n\nThis example demonstrates kernel overloading using CodPy.\n"
      ]
    },
    {
      "cell_type": "code",
      "execution_count": null,
      "metadata": {
        "collapsed": false
      },
      "outputs": [],
      "source": [
        "# import libraries\nimport numpy as np\nfrom codpydll import *\nimport codpy.core as core\n\n\n# define the class\nclass my_kernel(core.cd.kernel):\n    # An example of overloading codpy kernel with a user-defined expression.\n\n    def __init__(self, bandwith = 1.,**kwargs):\n        core.cd.kernel.__init__(self)\n        self.bandwidth_ = bandwith\n\n    def k(self, x, y):\n        out = np.linalg.norm((x - y) * self.bandwidth_)\n        return out * out * 0.5\n\n    def grad(self, x, y):\n        return y * self.bandwidth_"
      ]
    },
    {
      "cell_type": "markdown",
      "metadata": {},
      "source": [
        "Generate data for the kernel.\n\n"
      ]
    },
    {
      "cell_type": "code",
      "execution_count": null,
      "metadata": {
        "collapsed": false
      },
      "outputs": [],
      "source": [
        "core.kernel_interface.set_verbose(True)\nx, y = np.random.randn(3, 2), np.random.randn(3, 2)"
      ]
    },
    {
      "cell_type": "markdown",
      "metadata": {},
      "source": [
        "Create a kernel object and display the result.\n\n"
      ]
    },
    {
      "cell_type": "code",
      "execution_count": null,
      "metadata": {
        "collapsed": false
      },
      "outputs": [],
      "source": [
        "my_kernel1 = my_kernel(1)\nmy_kernel2 = my_kernel(2)\nresult_1 = my_kernel1.k(x[0], y[0])\nprint(\"Result 1:\", result_1)"
      ]
    },
    {
      "cell_type": "markdown",
      "metadata": {},
      "source": [
        "Set the kernel and display the next result.\nmy_kernel2 and my_kernel_ptr2 are the same object.\n\n"
      ]
    },
    {
      "cell_type": "code",
      "execution_count": null,
      "metadata": {
        "collapsed": false
      },
      "outputs": [],
      "source": [
        "my_kernel.set_kernel_ptr(my_kernel2)\nmy_kernel_ptr2 = core.kernel_interface.get_kernel_ptr()\nresult_2 = my_kernel_ptr2.k(x[0], y[0])\nprint(\"Result 2:\", result_2)"
      ]
    },
    {
      "cell_type": "markdown",
      "metadata": {},
      "source": [
        "Compute the Gram matrix with my_kernel2 and display it.\n\n"
      ]
    },
    {
      "cell_type": "code",
      "execution_count": null,
      "metadata": {
        "collapsed": false
      },
      "outputs": [],
      "source": [
        "gram_matrix = core.op.Knm(x, y)\nprint(\"Gram Matrix:\", gram_matrix)"
      ]
    },
    {
      "cell_type": "markdown",
      "metadata": {},
      "source": [
        "You can switch kernel as follow.\n\n"
      ]
    },
    {
      "cell_type": "code",
      "execution_count": null,
      "metadata": {
        "collapsed": false
      },
      "outputs": [],
      "source": [
        "my_kernel.set_kernel_ptr(my_kernel1)\nprint(core.op.Knm(x, y))\npass"
      ]
    }
  ],
  "metadata": {
    "kernelspec": {
      "display_name": "Python 3",
      "language": "python",
      "name": "python3"
    },
    "language_info": {
      "codemirror_mode": {
        "name": "ipython",
        "version": 3
      },
      "file_extension": ".py",
      "mimetype": "text/x-python",
      "name": "python",
      "nbconvert_exporter": "python",
      "pygments_lexer": "ipython3",
      "version": "3.9.13"
    }
  },
  "nbformat": 4,
  "nbformat_minor": 0
}