{
  "cells": [
    {
      "cell_type": "markdown",
      "metadata": {},
      "source": [
        "\n# Experiment: Random Data Generation and Plotting\n\nThis experiment demonstrates how to generate random data using a custom function\nand plot it using the CodPy library. We use `data_random_generator` to create data\nin different cartesian coordinates and visualize the results using `multi_plot`.\n\nThe function `my_fun(x)` is used to create a sinusoidal signal, and the data is\ngenerated in different coordinate systems to see how the function behaves.\n\n**Steps:**\n\n1. Define the sinusoidal function.\n\n2. Use `data_random_generator` to generate the data.\n\n3. Plot the generated data using `multi_plot`.\n\nBelow is the code for this experiment:\n"
      ]
    },
    {
      "cell_type": "code",
      "execution_count": null,
      "metadata": {
        "collapsed": false
      },
      "outputs": [],
      "source": [
        "# Importing necessary modules\nimport os\nimport sys\n\ncurrent_dir = os.getcwd()\nsys.path.append(current_dir)\nimport matplotlib.pyplot as plt\nimport numpy as np\n\nfrom codpy_old.codpy.com.generators import *\nfrom codpy_old.codpy.data.data_generators import data_random_generator\nfrom codpy_old.codpy.pred import *\n\n\ndef my_fun(x):\n    \"\"\"\n    A sinusoidal function that generates a sum of sines based on the input `x`.\n    \"\"\"\n    from math import pi\n\n    sinss = np.cos(2 * x * pi)\n    if x.ndim == 1:\n        sinss = np.prod(sinss, axis=0)\n        ress = np.sum(x, axis=0)\n    else:\n        sinss = np.prod(sinss, axis=1)\n        ress = np.sum(x, axis=1)\n    return ress + sinss\n\n\ndef labelxfxzfz():\n    \"\"\"\n    This function generates random data using `data_random_generator` and plots\n    the data using `multi_plot`. It creates data for three sets of coordinates\n    and visualizes the results.\n    \"\"\"\n    data_random_generator_ = data_random_generator(\n        fun=my_fun, types=[\"cart\", \"cart\", \"cart\"]\n    )\n    x, fx, y, fy, z, fz = data_random_generator_.get_data(D=1, Nx=100, Ny=100, Nz=100)\n\n    # Plot the data for x and z\n    multi_plot([(x, fx), (z, fz)], plot1D, mp_nrows=1, mp_figsize=(12, 3))\n\n\n# Call the function to generate and plot the data\nlabelxfxzfz()\nplt.show()"
      ]
    },
    {
      "cell_type": "markdown",
      "metadata": {},
      "source": [
        "**Expected Output:**\nThe plot should show a sinusoidal pattern for the data generated in the cartesian coordinate system.\nThe two curves for `x` and `z` should exhibit the sinusoidal variations defined by `my_fun(x)`.\n\n"
      ]
    }
  ],
  "metadata": {
    "kernelspec": {
      "display_name": "Python 3",
      "language": "python",
      "name": "python3"
    },
    "language_info": {
      "codemirror_mode": {
        "name": "ipython",
        "version": 3
      },
      "file_extension": ".py",
      "mimetype": "text/x-python",
      "name": "python",
      "nbconvert_exporter": "python",
      "pygments_lexer": "ipython3",
      "version": "3.9.7"
    }
  },
  "nbformat": 4,
  "nbformat_minor": 0
}