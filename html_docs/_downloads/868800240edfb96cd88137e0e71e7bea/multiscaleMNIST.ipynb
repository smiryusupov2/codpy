{
  "cells": [
    {
      "cell_type": "markdown",
      "metadata": {},
      "source": [
        "\n# Multiscale MNIST Examples\n\nWe illustrate the class :class:`codpy.multiscale_kernel.MultiScaleKernel`, applying it to the [MNIST](https://en.wikipedia.org/wiki/MNIST_database) problem.\nThe methodology is similar to the gallery example :ref:[MNIST](MNIST)\n"
      ]
    },
    {
      "cell_type": "code",
      "execution_count": null,
      "metadata": {
        "collapsed": false
      },
      "outputs": [],
      "source": [
        "import os\nimport pandas as pd\nimport numpy as np\nimport random\n# We use a custom hot encoder for performances reasons.\nfrom codpy.data_processing import hot_encoder\n# Standard codpy kernel class.\nfrom codpy.kernel import Kernel\n# A multi scale kernel method.\nfrom codpy.multiscale_kernel import *\nfrom sklearn.metrics import confusion_matrix\n\nos.environ[\"OPENBLAS_NUM_THREADS\"] = \"32\"\nos.environ[\"OMP_NUM_THREADS\"] = \"32\""
      ]
    },
    {
      "cell_type": "code",
      "execution_count": null,
      "metadata": {
        "collapsed": false
      },
      "outputs": [],
      "source": [
        "def get_MNIST_data(N=-1):\n    import tensorflow as tf\n\n    (x, fx), (z, fz) = tf.keras.datasets.mnist.load_data()\n    x, z = x / 255.0, z / 255.0\n    x, z, fx, fz = (\n        x.reshape(len(x), -1),\n        z.reshape(len(z), -1),\n        fx.reshape(len(fx), -1),\n        fz.reshape(len(fz), -1),\n    )\n    fx, fz = (\n        hot_encoder(pd.DataFrame(data=fx), cat_cols_include=[0], sort_columns=True),\n        hot_encoder(pd.DataFrame(data=fz), cat_cols_include=[0], sort_columns=True),\n    )\n    x, fx, z, fz = (x, fx.values, z, fz.values)\n    if N != -1:\n        indices = random.sample(range(x.shape[0]), N)\n        x, fx = x[indices], fx[indices]\n\n    return x, fx, z, fz"
      ]
    },
    {
      "cell_type": "code",
      "execution_count": null,
      "metadata": {
        "collapsed": false
      },
      "outputs": [],
      "source": [
        "def show_confusion_matrix(z, fz, predictor=None, cm=True):\n    f_z = predictor(z)\n    fz, f_z = fz.argmax(axis=-1), f_z.argmax(axis=-1)\n    out = confusion_matrix(fz, f_z)\n    if cm:\n        print(\"confusion matrix:\")\n        print(out)\n    print(\"score MNIST:\", np.trace(out) / np.sum(out))\n    pass"
      ]
    },
    {
      "cell_type": "markdown",
      "metadata": {},
      "source": [
        "Run codpy silently on/off.\n\n"
      ]
    },
    {
      "cell_type": "code",
      "execution_count": null,
      "metadata": {
        "collapsed": false
      },
      "outputs": [],
      "source": [
        "core.kernel_interface.set_verbose(False)"
      ]
    },
    {
      "cell_type": "markdown",
      "metadata": {},
      "source": [
        "The training set is `x,fx`, the test set is `z,fz`.\n\n"
      ]
    },
    {
      "cell_type": "code",
      "execution_count": null,
      "metadata": {
        "collapsed": false
      },
      "outputs": [],
      "source": [
        "N_clusters=100\nN_MNIST_pics=5000\nx, fx, z, fz = get_MNIST_data(N_MNIST_pics)"
      ]
    },
    {
      "cell_type": "markdown",
      "metadata": {},
      "source": [
        "Select a multi scale kernel method where the centers are given by a k-mean algorithm.\n\n"
      ]
    },
    {
      "cell_type": "code",
      "execution_count": null,
      "metadata": {
        "collapsed": false
      },
      "outputs": [],
      "source": [
        "N_partition=5\npredictor = MultiScaleKernelClassifier(x=x,fx=fx,N=N_partition,method=MiniBatchkmeans)\nprint(\"Reproductibility test:\")\nshow_confusion_matrix(x, fx, predictor,cm=False)\nprint(\"Performance test:\")\nshow_confusion_matrix(z, fz, predictor,cm=False)"
      ]
    },
    {
      "cell_type": "markdown",
      "metadata": {},
      "source": [
        "Select a multi scale kernel where the centers are given by a greedy search algorithm.\n\n"
      ]
    },
    {
      "cell_type": "code",
      "execution_count": null,
      "metadata": {
        "collapsed": false
      },
      "outputs": [],
      "source": [
        "predictor = MultiScaleKernelClassifier(x=x,fx=fx,N=N_partition,method=GreedySearch)\nprint(\"Reproductibility test:\")\nshow_confusion_matrix(x, fx, predictor,cm=False)\nprint(\"Performance test:\")\nshow_confusion_matrix(z, fz, predictor,cm=False)"
      ]
    }
  ],
  "metadata": {
    "kernelspec": {
      "display_name": "Python 3",
      "language": "python",
      "name": "python3"
    },
    "language_info": {
      "codemirror_mode": {
        "name": "ipython",
        "version": 3
      },
      "file_extension": ".py",
      "mimetype": "text/x-python",
      "name": "python",
      "nbconvert_exporter": "python",
      "pygments_lexer": "ipython3",
      "version": "3.9.7"
    }
  },
  "nbformat": 4,
  "nbformat_minor": 0
}